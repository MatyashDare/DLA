{
 "cells": [
  {
   "cell_type": "code",
   "execution_count": 2,
   "metadata": {},
   "outputs": [],
   "source": [
    "import json\n",
    "import youtokentome as yttm"
   ]
  },
  {
   "cell_type": "code",
   "execution_count": 5,
   "metadata": {},
   "outputs": [],
   "source": [
    "json_all = json.load(open('/Users/pikachu/DLA/data/datasets/librispeech/train-clean-100_index.json'))"
   ]
  },
  {
   "cell_type": "code",
   "execution_count": 8,
   "metadata": {},
   "outputs": [],
   "source": [
    "texts_all = []\n",
    "\n",
    "for i in range(len(json_all)):\n",
    "    texts_all.append(json_all[i]['text'])"
   ]
  },
  {
   "cell_type": "code",
   "execution_count": 10,
   "metadata": {},
   "outputs": [],
   "source": [
    "texts_str = '\\n'.join(texts_all)"
   ]
  },
  {
   "cell_type": "code",
   "execution_count": 13,
   "metadata": {},
   "outputs": [
    {
     "name": "stdout",
     "output_type": "stream",
     "text": [
      "in the time of clovis the country now called bulgaria was inhabited by goths one day a poor shepherd boy about sixteen years of age left his mountain home in that country to go to the city of constantinople which was many miles away\n",
      "but he was determined to go even though he should have to walk every step of the road and live on fruits that he could gather by the way he was a bright clever boy who had spent his life hitherto in a village but was now eager to go out into the world\n",
      "to seek his fortune some years before this boy's uncle who was named justin had gone to constantinople and joined the roman army he was so brave and so good a soldier that he soon came to be\n",
      "commander of the imperial guard which attended the emperor the poor shepherd boy had heard of the success of his uncle and this was the reason why he resolved to set off for the big city so he started down the mountain\n",
      "and trudged along the valley in high hope feeling certain that he would reach the end of his journey in s\n"
     ]
    }
   ],
   "source": [
    "print(texts_str[:1000])"
   ]
  },
  {
   "cell_type": "code",
   "execution_count": 15,
   "metadata": {},
   "outputs": [],
   "source": [
    "with open('texts_str.txt', 'w') as f:\n",
    "    f.write(texts_str)"
   ]
  },
  {
   "cell_type": "code",
   "execution_count": 30,
   "metadata": {},
   "outputs": [],
   "source": [
    "\n",
    "train_data_path = \"texts_str.txt\"\n",
    "model_path = \"texts_str.model\"\n",
    "\n",
    "# # Generating random file with training data\n",
    "# # 10000 lines with 100 characters in each line\n",
    "# n_lines = 10000\n",
    "# n_characters = 100\n",
    "# with open(train_data_path, \"w\") as fout:\n",
    "#     for _ in range(n_lines):\n",
    "#         print(\"\".join([random.choice(\"abcd \") for _ in range(n_characters)]), file=fout)\n",
    "\n",
    "# # Generating random text\n",
    "# test_text = \"\".join([random.choice(\"abcde \") for _ in range(100)])\n",
    "test_text = 'hello how are you'\n",
    "# Training model\n",
    "yttm.BPE.train(data=\"texts_str.txt\", vocab_size=100, model=model_path)\n",
    "\n",
    "# Loading model\n",
    "bpe = yttm.BPE(model=model_path)"
   ]
  },
  {
   "cell_type": "code",
   "execution_count": 9,
   "metadata": {},
   "outputs": [],
   "source": [
    "model_path = \"texts_str.model\"\n",
    "bpe = yttm.BPE(model=model_path)"
   ]
  },
  {
   "cell_type": "code",
   "execution_count": 10,
   "metadata": {},
   "outputs": [],
   "source": [
    "test_text = 'hello how are you'"
   ]
  },
  {
   "cell_type": "code",
   "execution_count": 11,
   "metadata": {},
   "outputs": [
    {
     "name": "stdout",
     "output_type": "stream",
     "text": [
      "[[63, 71, 8, 42, 82, 34, 40, 99]]\n",
      "hello how are you\n",
      "[['▁he', 'll', 'o', '▁h', 'ow', '▁a', 're', '▁you']]\n"
     ]
    }
   ],
   "source": [
    "print(bpe.encode([test_text], output_type=yttm.OutputType.ID))\n",
    "print(bpe.decode(bpe.encode([test_text], output_type=yttm.OutputType.ID)[0])[0])\n",
    "print(bpe.encode([test_text], output_type=yttm.OutputType.SUBWORD))"
   ]
  },
  {
   "cell_type": "code",
   "execution_count": 42,
   "metadata": {},
   "outputs": [
    {
     "name": "stdout",
     "output_type": "stream",
     "text": [
      " he\n",
      "ll\n",
      "o\n",
      " h\n",
      "ow\n",
      " a\n",
      "re\n",
      " you\n",
      "<PAD>\n",
      "<PAD>\n",
      "<UNK>\n"
     ]
    }
   ],
   "source": [
    "for n in [63, 71, 8, 42, 82, 34, 40, 99, 0, 0, 1]:\n",
    "    print(re.sub('▁', ' ', bpe.id_to_subword(n)))"
   ]
  },
  {
   "cell_type": "code",
   "execution_count": 38,
   "metadata": {},
   "outputs": [],
   "source": [
    "import re"
   ]
  },
  {
   "cell_type": "code",
   "execution_count": 41,
   "metadata": {},
   "outputs": [],
   "source": [
    "# for k in bpe.encode('groups of the aramaeans had acquired a high degree of culture and become traders and artisans'):\n",
    "#     print(re.sub('▁', ' ', bpe.id_to_subword(k)))"
   ]
  },
  {
   "cell_type": "code",
   "execution_count": 12,
   "metadata": {},
   "outputs": [
    {
     "data": {
      "text/plain": [
       "'▁you'"
      ]
     },
     "execution_count": 12,
     "metadata": {},
     "output_type": "execute_result"
    }
   ],
   "source": [
    "bpe.id_to_subword(99)"
   ]
  },
  {
   "cell_type": "code",
   "execution_count": 13,
   "metadata": {},
   "outputs": [
    {
     "data": {
      "text/plain": [
       "0"
      ]
     },
     "execution_count": 13,
     "metadata": {},
     "output_type": "execute_result"
    }
   ],
   "source": [
    "bpe.subword_to_id('<PAD>')"
   ]
  },
  {
   "cell_type": "code",
   "execution_count": null,
   "metadata": {},
   "outputs": [],
   "source": [
    "'_a', 'a'"
   ]
  },
  {
   "cell_type": "code",
   "execution_count": null,
   "metadata": {},
   "outputs": [],
   "source": [
    "[0, 0]"
   ]
  },
  {
   "cell_type": "code",
   "execution_count": 16,
   "metadata": {},
   "outputs": [],
   "source": [
    "import numpy as np"
   ]
  },
  {
   "cell_type": "code",
   "execution_count": 30,
   "metadata": {},
   "outputs": [
    {
     "name": "stdout",
     "output_type": "stream",
     "text": [
      "['<PAD><UNK>']\n"
     ]
    }
   ],
   "source": [
    "print(bpe.decode([0, 1]))"
   ]
  },
  {
   "cell_type": "code",
   "execution_count": 24,
   "metadata": {},
   "outputs": [
    {
     "name": "stdout",
     "output_type": "stream",
     "text": [
      "['<UNK>']\n"
     ]
    }
   ],
   "source": [
    "print(bpe.decode([1]))"
   ]
  },
  {
   "cell_type": "code",
   "execution_count": 25,
   "metadata": {},
   "outputs": [
    {
     "name": "stdout",
     "output_type": "stream",
     "text": [
      "['<BOS>']\n"
     ]
    }
   ],
   "source": [
    "print(bpe.decode([2]))"
   ]
  },
  {
   "cell_type": "code",
   "execution_count": 26,
   "metadata": {},
   "outputs": [
    {
     "name": "stdout",
     "output_type": "stream",
     "text": [
      "['<EOS>']\n"
     ]
    }
   ],
   "source": [
    "print(bpe.decode([3]))"
   ]
  },
  {
   "cell_type": "code",
   "execution_count": 27,
   "metadata": {},
   "outputs": [
    {
     "name": "stdout",
     "output_type": "stream",
     "text": [
      "['']\n"
     ]
    }
   ],
   "source": [
    "print(bpe.decode([4]))"
   ]
  },
  {
   "cell_type": "code",
   "execution_count": 28,
   "metadata": {},
   "outputs": [
    {
     "name": "stdout",
     "output_type": "stream",
     "text": [
      "['e']\n"
     ]
    }
   ],
   "source": [
    "print(bpe.decode([5]))"
   ]
  },
  {
   "cell_type": "code",
   "execution_count": 31,
   "metadata": {},
   "outputs": [],
   "source": [
    "# bpe.encode(['groups of the aramaeans had acquired a high degree of culture and become traders and artisans'],\n",
    "#           output_type=yttm.OutputType.ID)"
   ]
  },
  {
   "cell_type": "code",
   "execution_count": null,
   "metadata": {},
   "outputs": [],
   "source": []
  }
 ],
 "metadata": {
  "kernelspec": {
   "display_name": "Python 3",
   "language": "python",
   "name": "python3"
  },
  "language_info": {
   "codemirror_mode": {
    "name": "ipython",
    "version": 3
   },
   "file_extension": ".py",
   "mimetype": "text/x-python",
   "name": "python",
   "nbconvert_exporter": "python",
   "pygments_lexer": "ipython3",
   "version": "3.7.6"
  }
 },
 "nbformat": 4,
 "nbformat_minor": 4
}
